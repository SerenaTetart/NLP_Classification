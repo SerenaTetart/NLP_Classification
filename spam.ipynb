{
 "cells": [
  {
   "cell_type": "markdown",
   "id": "449296eb",
   "metadata": {},
   "source": [
    "<h2> NLP Classification - SMS Spam detection system </h2>\n",
    "\n",
    "In this notebook we'll study how to make a SMS Spam detection system based on NLP classification using different methods such as Naive Baye, LSTM and transformers (Bert in particular).\n",
    "\n",
    "<h3> Introduction - Quick Data exploration </h3>"
   ]
  },
  {
   "cell_type": "code",
   "execution_count": 1,
   "id": "0cf500b6",
   "metadata": {},
   "outputs": [
    {
     "data": {
      "text/html": [
       "<div>\n",
       "<style scoped>\n",
       "    .dataframe tbody tr th:only-of-type {\n",
       "        vertical-align: middle;\n",
       "    }\n",
       "\n",
       "    .dataframe tbody tr th {\n",
       "        vertical-align: top;\n",
       "    }\n",
       "\n",
       "    .dataframe thead th {\n",
       "        text-align: right;\n",
       "    }\n",
       "</style>\n",
       "<table border=\"1\" class=\"dataframe\">\n",
       "  <thead>\n",
       "    <tr style=\"text-align: right;\">\n",
       "      <th></th>\n",
       "      <th>v1</th>\n",
       "      <th>v2</th>\n",
       "    </tr>\n",
       "  </thead>\n",
       "  <tbody>\n",
       "    <tr>\n",
       "      <th>0</th>\n",
       "      <td>ham</td>\n",
       "      <td>Go until jurong point, crazy.. Available only ...</td>\n",
       "    </tr>\n",
       "    <tr>\n",
       "      <th>1</th>\n",
       "      <td>ham</td>\n",
       "      <td>Ok lar... Joking wif u oni...</td>\n",
       "    </tr>\n",
       "    <tr>\n",
       "      <th>2</th>\n",
       "      <td>spam</td>\n",
       "      <td>Free entry in 2 a wkly comp to win FA Cup fina...</td>\n",
       "    </tr>\n",
       "    <tr>\n",
       "      <th>3</th>\n",
       "      <td>ham</td>\n",
       "      <td>U dun say so early hor... U c already then say...</td>\n",
       "    </tr>\n",
       "    <tr>\n",
       "      <th>4</th>\n",
       "      <td>ham</td>\n",
       "      <td>Nah I don't think he goes to usf, he lives aro...</td>\n",
       "    </tr>\n",
       "  </tbody>\n",
       "</table>\n",
       "</div>"
      ],
      "text/plain": [
       "     v1                                                 v2\n",
       "0   ham  Go until jurong point, crazy.. Available only ...\n",
       "1   ham                      Ok lar... Joking wif u oni...\n",
       "2  spam  Free entry in 2 a wkly comp to win FA Cup fina...\n",
       "3   ham  U dun say so early hor... U c already then say...\n",
       "4   ham  Nah I don't think he goes to usf, he lives aro..."
      ]
     },
     "execution_count": 1,
     "metadata": {},
     "output_type": "execute_result"
    }
   ],
   "source": [
    "import os\n",
    "import re\n",
    "import nltk\n",
    "import unidecode\n",
    "import numpy as np\n",
    "import pandas as pd\n",
    "import matplotlib.pyplot as plt\n",
    "from nltk.stem import SnowballStemmer\n",
    "from sklearn.model_selection import train_test_split\n",
    "\n",
    "data = pd.read_csv((\"spam.csv\"), encoding='latin1')\n",
    "data = data[['v1', 'v2']]\n",
    "data.head()"
   ]
  },
  {
   "cell_type": "code",
   "execution_count": 8,
   "id": "c60b814d",
   "metadata": {},
   "outputs": [
    {
     "name": "stdout",
     "output_type": "stream",
     "text": [
      "Number of NaN values:\n",
      "v1    0\n",
      "v2    0\n",
      "dtype: int64\n"
     ]
    }
   ],
   "source": [
    "print('Number of NaN values:\\n' + str(data.isnull().sum()))"
   ]
  },
  {
   "cell_type": "markdown",
   "id": "871729f5",
   "metadata": {},
   "source": [
    "<h3> Part I - Naive Baye Classification: </h3>"
   ]
  },
  {
   "cell_type": "code",
   "execution_count": 11,
   "id": "9eb6180d",
   "metadata": {},
   "outputs": [
    {
     "name": "stdout",
     "output_type": "stream",
     "text": [
      "train len: 4736\n",
      "test len: 836\n",
      "Accuracy: 0.9772727272727273\n"
     ]
    },
    {
     "data": {
      "image/png": "[encoded data removed]",
      "text/plain": [
       "<Figure size 432x288 with 2 Axes>"
      ]
     },
     "metadata": {
      "needs_background": "light"
     },
     "output_type": "display_data"
    }
   ],
   "source": [
    "from sklearn.feature_extraction.text import CountVectorizer\n",
    "from sklearn.naive_bayes import MultinomialNB\n",
    "from sklearn.metrics import confusion_matrix\n",
    "from sklearn.metrics import accuracy_score\n",
    "\n",
    "def plot_confusion_matrix(cm, classes, normalize=False, title='Confusion matrix', cmap=plt.cm.Blues):\n",
    "    plt.imshow(cm, interpolation='nearest', cmap=cmap)\n",
    "    plt.title(title)\n",
    "    plt.colorbar()\n",
    "    tick_marks = np.arange(len(classes))\n",
    "    plt.xticks(tick_marks, classes, rotation=45)\n",
    "    plt.yticks(tick_marks, classes)\n",
    "    if normalize: cm = cm.astype('float') / cm.sum(axis=1)[:, np.newaxis]\n",
    "    thresh = cm.max() / 2.\n",
    "    for i in range(cm.shape[0]):\n",
    "        for j in range(cm.shape[1]):\n",
    "            plt.text(j, i, cm[i, j], horizontalalignment=\"center\", color=\"white\" if cm[i, j] > thresh else \"black\")\n",
    "    plt.tight_layout()\n",
    "    plt.ylabel('True label')\n",
    "    plt.xlabel('Predicted label')\n",
    "\n",
    "def NB_text_processing(text):\n",
    "    ''' Return cleaned text for Machine Learning '''\n",
    "    REPLACE_BY_SPACE_RE = re.compile('[/(){}\\[\\]\\|@,;]')\n",
    "    NEW_LINE = re.compile('\\n')\n",
    "    BAD_SYMBOLS_RE = re.compile('[^0-9a-z #+_]')\n",
    "    STOPWORDS = set(nltk.corpus.stopwords.words('english'))\n",
    "    STEMMER = SnowballStemmer('english')\n",
    "\n",
    "    text = text.lower()\n",
    "    text = unidecode.unidecode(text)\n",
    "    text = NEW_LINE.sub(' ',text)\n",
    "    text = REPLACE_BY_SPACE_RE.sub(' ',text)\n",
    "    text = BAD_SYMBOLS_RE.sub('',text)\n",
    "    text = ' '.join([STEMMER.stem(word) for word in text.split() if word not in STOPWORDS])\n",
    "    return text\n",
    "\n",
    "def NB_preprocessing(data):\n",
    "    ''' Return train, validation and test set '''\n",
    "    X = data['v2'].tolist()\n",
    "    X = [NB_text_processing(txt) for txt in X]\n",
    "    cv = CountVectorizer(max_features = 5000)\n",
    "\n",
    "    X = cv.fit_transform(X).toarray()\n",
    "    Y = data['v1'].tolist()\n",
    "    \n",
    "    x_train, x_test, y_train, y_test = train_test_split(X,Y,test_size=0.15,train_size=0.85)\n",
    "    print('train len:', len(x_train))\n",
    "    print('test len:', len(x_test))\n",
    "\n",
    "    return x_train, x_test, y_train, y_test\n",
    "\n",
    "def NB_Model(data):\n",
    "    ''' Create a model based on Naive Bayes '''\n",
    "    x_train, x_test, y_train, y_test = NB_preprocessing(data)\n",
    "    classifier = MultinomialNB()\n",
    "    classifier.fit(x_train, y_train)\n",
    "\n",
    "    y_pred = classifier.predict(x_test)\n",
    "    print('Accuracy:', accuracy_score(y_test, y_pred))\n",
    "    cm = confusion_matrix(y_test, y_pred)\n",
    "    plot_confusion_matrix(cm, classes=['Ham', 'Spam'])\n",
    "\n",
    "NB_Model(data)"
   ]
  },
  {
   "cell_type": "markdown",
   "id": "b2d51c09",
   "metadata": {},
   "source": [
    "Well... This is too good to be true... It is almost perfect with only Naive Baye with 97.73% accuracy.\n",
    "\n",
    "<h3> Part II - LSTM Classification: </h3>"
   ]
  },
  {
   "cell_type": "code",
   "execution_count": 13,
   "id": "ff4b6b47",
   "metadata": {},
   "outputs": [
    {
     "name": "stdout",
     "output_type": "stream",
     "text": [
      "0       go jurong point crazi avail bugi n great world...\n",
      "1                                   ok lar joke wif u oni\n",
      "2       free entri 2 wkli comp win fa cup final tkts 2...\n",
      "3                     u dun say earli hor u c alreadi say\n",
      "4               nah dont think goe usf live around though\n",
      "                              ...                        \n",
      "5567    2nd time tri 2 contact u u a750 pound prize 2 ...\n",
      "5568                             i_ b go esplanad fr home\n",
      "5569                              piti mood soani suggest\n",
      "5570    guy bitch act like id interest buy someth els ...\n",
      "5571                                       rofl true name\n",
      "Name: v2, Length: 5572, dtype: object\n",
      "Maximum length of a sentence is :  80\n",
      "Vocabulary Size : 7915\n"
     ]
    }
   ],
   "source": [
    "from sklearn.preprocessing import LabelEncoder\n",
    "from keras.preprocessing.text import Tokenizer\n",
    "from keras.preprocessing.sequence import pad_sequences\n",
    "\n",
    "X = data['v2'].apply(lambda x: NB_text_processing(x))\n",
    "Y = data['v1'].tolist()\n",
    "encoder = LabelEncoder()\n",
    "Y = encoder.fit_transform(Y)\n",
    "Y.reshape(-1, 1)\n",
    "print(X)\n",
    "\n",
    "c=[]\n",
    "for i in range(len(X)):\n",
    "    m=len(X[i].split())\n",
    "    c.append(m)\n",
    "print('Maximum length of a sentence is : ',max(c))\n",
    "\n",
    "tokenizer = Tokenizer()\n",
    "tokenizer.fit_on_texts(X)\n",
    "word_index = tokenizer.word_index\n",
    "vocab_size = len(tokenizer.word_index) + 1\n",
    "print(\"Vocabulary Size :\", vocab_size)\n",
    "\n",
    "X = pad_sequences(tokenizer.texts_to_sequences(X), maxlen = max(c))\n",
    "x_train, x_test, y_train, y_test = train_test_split(X,Y,test_size=0.15,train_size=0.85)"
   ]
  },
  {
   "cell_type": "code",
   "execution_count": 14,
   "id": "ebc75829",
   "metadata": {},
   "outputs": [
    {
     "name": "stdout",
     "output_type": "stream",
     "text": [
      "Found 400000 word vectors.\n"
     ]
    }
   ],
   "source": [
    "from tensorflow.keras import Model\n",
    "from tensorflow.keras.layers import Embedding, Conv1D, Bidirectional, LSTM, Dense, Input, Dropout\n",
    "from tensorflow.keras.layers import SpatialDropout1D\n",
    "from tensorflow.keras.callbacks import ModelCheckpoint\n",
    "from tensorflow.keras.optimizers import Adam\n",
    "from tensorflow.keras.callbacks import ReduceLROnPlateau\n",
    "\n",
    "''' You have to download this file: http://nlp.stanford.edu/data/glove.6B.zip\n",
    "    his weight is 1GO !'''\n",
    "\n",
    "EMBEDDING_DIM = 300\n",
    "BATCH_SIZE = 512\n",
    "\n",
    "embeddings_index = {}\n",
    "\n",
    "f = open('glove.6B.300d.txt', encoding='utf-8')\n",
    "for line in f:\n",
    "    values = line.split()\n",
    "    word = value = values[0]\n",
    "    coefs = np.asarray(values[1:], dtype='float32')\n",
    "    embeddings_index[word] = coefs\n",
    "f.close()\n",
    "\n",
    "print('Found %s word vectors.' %len(embeddings_index))\n",
    "\n",
    "embedding_matrix = np.zeros((vocab_size, EMBEDDING_DIM))\n",
    "for word, i in word_index.items():\n",
    "    embedding_vector = embeddings_index.get(word)\n",
    "    if embedding_vector is not None:\n",
    "        embedding_matrix[i] = embedding_vector\n",
    "        \n",
    "embedding_layer = Embedding(vocab_size\n",
    "    , EMBEDDING_DIM\n",
    "    , weights=[embedding_matrix]\n",
    "    , input_length=max(c)\n",
    "    , trainable=False)"
   ]
  },
  {
   "cell_type": "code",
   "execution_count": 15,
   "id": "7297aab2",
   "metadata": {},
   "outputs": [
    {
     "name": "stdout",
     "output_type": "stream",
     "text": [
      "WARNING:tensorflow:Layer lstm will not use cuDNN kernels since it doesn't meet the criteria. It will use a generic GPU kernel as fallback when running on GPU.\n",
      "WARNING:tensorflow:Layer lstm will not use cuDNN kernels since it doesn't meet the criteria. It will use a generic GPU kernel as fallback when running on GPU.\n",
      "WARNING:tensorflow:Layer lstm will not use cuDNN kernels since it doesn't meet the criteria. It will use a generic GPU kernel as fallback when running on GPU.\n",
      "Model: \"model\"\n",
      "_________________________________________________________________\n",
      "Layer (type)                 Output Shape              Param #   \n",
      "=================================================================\n",
      "input_1 (InputLayer)         [(None, 80)]              0         \n",
      "_________________________________________________________________\n",
      "embedding (Embedding)        (None, 80, 300)           2374500   \n",
      "_________________________________________________________________\n",
      "spatial_dropout1d (SpatialDr (None, 80, 300)           0         \n",
      "_________________________________________________________________\n",
      "conv1d (Conv1D)              (None, 76, 64)            96064     \n",
      "_________________________________________________________________\n",
      "bidirectional (Bidirectional (None, 128)               66048     \n",
      "_________________________________________________________________\n",
      "dense (Dense)                (None, 512)               66048     \n",
      "_________________________________________________________________\n",
      "dropout (Dropout)            (None, 512)               0         \n",
      "_________________________________________________________________\n",
      "dense_1 (Dense)              (None, 512)               262656    \n",
      "_________________________________________________________________\n",
      "dense_2 (Dense)              (None, 1)                 513       \n",
      "=================================================================\n",
      "Total params: 2,865,829\n",
      "Trainable params: 491,329\n",
      "Non-trainable params: 2,374,500\n",
      "_________________________________________________________________\n",
      "None\n"
     ]
    }
   ],
   "source": [
    "def MakeModel():\n",
    "    sequence_input = Input(shape=(max(c),), dtype='int32')\n",
    "    embedding_sequences = embedding_layer(sequence_input)\n",
    "    x = SpatialDropout1D(0.2)(embedding_sequences)\n",
    "    x = Conv1D(64, 5, activation='relu')(x)\n",
    "    x = Bidirectional(LSTM(64, dropout=0.2, recurrent_dropout=0.2))(x)\n",
    "    x = Dense(512, activation='relu')(x)\n",
    "    x = Dropout(0.5)(x)\n",
    "    x = Dense(512, activation='relu')(x)\n",
    "    outputs = Dense(1, activation='sigmoid')(x)\n",
    "    model = Model(sequence_input, outputs)\n",
    "    print(model.summary())\n",
    "    return model\n",
    "\n",
    "model = MakeModel()\n",
    "model.compile(optimizer=Adam(learning_rate=1e-3), loss='binary_crossentropy', metrics=['accuracy'])\n",
    "ReduceLROnPlateau = ReduceLROnPlateau(factor=0.1, min_lr = 0.01, monitor = 'val_loss', verbose = 1)"
   ]
  },
  {
   "cell_type": "code",
   "execution_count": 16,
   "id": "0ce28584",
   "metadata": {},
   "outputs": [
    {
     "name": "stdout",
     "output_type": "stream",
     "text": [
      "Epoch 1/4\n",
      "10/10 [==============================] - 22s 2s/step - loss: 0.4643 - accuracy: 0.8530 - val_loss: 0.2553 - val_accuracy: 0.8804\n",
      "Epoch 2/4\n",
      "10/10 [==============================] - 15s 2s/step - loss: 0.2309 - accuracy: 0.8685 - val_loss: 0.1309 - val_accuracy: 0.9593\n",
      "Epoch 3/4\n",
      "10/10 [==============================] - 17s 2s/step - loss: 0.1451 - accuracy: 0.9601 - val_loss: 0.0753 - val_accuracy: 0.9713\n",
      "Epoch 4/4\n",
      "10/10 [==============================] - 14s 1s/step - loss: 0.0911 - accuracy: 0.9709 - val_loss: 0.0611 - val_accuracy: 0.9773\n"
     ]
    }
   ],
   "source": [
    "history = model.fit(x_train, y_train, batch_size=BATCH_SIZE, epochs=4, validation_data=(x_test, y_test), callbacks=[ReduceLROnPlateau])"
   ]
  },
  {
   "cell_type": "code",
   "execution_count": 18,
   "id": "4c6264c8",
   "metadata": {},
   "outputs": [
    {
     "name": "stdout",
     "output_type": "stream",
     "text": [
      "Accuracy: 0.9772727272727273\n"
     ]
    },
    {
     "data": {
      "image/png": "[encoded data removed]",
      "text/plain": [
       "<Figure size 432x288 with 2 Axes>"
      ]
     },
     "metadata": {
      "needs_background": "light"
     },
     "output_type": "display_data"
    }
   ],
   "source": [
    "threshold = 0.5\n",
    "\n",
    "y_tmp = model.predict(x_test)\n",
    "y_pred = []\n",
    "for i in range(len(y_tmp)):\n",
    "    if(y_tmp[i] > threshold): y_pred.append(1)\n",
    "    else: y_pred.append(0)\n",
    "print('Accuracy:', accuracy_score(y_test, y_pred))\n",
    "cm = confusion_matrix(y_test, y_pred)\n",
    "plot_confusion_matrix(cm, classes=['Ham', 'Spam'])"
   ]
  },
  {
   "cell_type": "markdown",
   "id": "8138f4b7",
   "metadata": {},
   "source": [
    "This is the same accuracy as Naive Baye with 97.73%\n",
    "\n",
    "<h3> Part III - Bert Classification: </h3>"
   ]
  },
  {
   "cell_type": "code",
   "execution_count": 2,
   "id": "4eb50e35",
   "metadata": {
    "scrolled": false
   },
   "outputs": [
    {
     "name": "stdout",
     "output_type": "stream",
     "text": [
      "\n",
      "Epoch 1/1\n",
      "----------\n",
      "300/4499. Average loss: 0.49086402614911395 | Accuracy: 89.66666666666666%\n",
      "600/4499. Average loss: 0.4545454927285512 | Accuracy: 88.0%\n",
      "900/4499. Average loss: 0.4577286632855733 | Accuracy: 87.22222222222223%\n",
      "1200/4499. Average loss: 0.4572870764136314 | Accuracy: 86.83333333333333%\n",
      "1500/4499. Average loss: 0.43373634447654086 | Accuracy: 87.06666666666666%\n",
      "1800/4499. Average loss: 0.4275242471694946 | Accuracy: 87.33333333333333%\n",
      "2100/4499. Average loss: 0.4699934889872869 | Accuracy: 86.90476190476191%\n",
      "2400/4499. Average loss: 0.453456927438577 | Accuracy: 86.79166666666667%\n",
      "2700/4499. Average loss: 0.44996900071700413 | Accuracy: 86.74074074074073%\n",
      "3000/4499. Average loss: 0.44330583383639655 | Accuracy: 86.76666666666667%\n",
      "3300/4499. Average loss: 0.4866279074549675 | Accuracy: 86.39393939393939%\n",
      "3600/4499. Average loss: 0.42664526353279747 | Accuracy: 86.58333333333333%\n",
      "3900/4499. Average loss: 0.46662366539239886 | Accuracy: 86.43589743589743%\n",
      "4200/4499. Average loss: 0.47016157150268556 | Accuracy: 86.28571428571429%\n",
      "Average val loss: 0.4304006272359219 | Val accuracy: 88.28715365239294%\n"
     ]
    }
   ],
   "source": [
    "from transformers import BertTokenizer, BertForSequenceClassification\n",
    "import torch\n",
    "import torch.nn as nn\n",
    "import torch.optim as optim\n",
    "import torch.nn.functional as F\n",
    "from sklearn.utils import shuffle\n",
    "from sklearn.model_selection import train_test_split\n",
    "\n",
    "def Bert_preprocess_text(text, device, tokenizer):\n",
    "    ''' Encode text '''\n",
    "    parts = []\n",
    "    text_len = len(text.split(' '))\n",
    "    delta = 300\n",
    "    max_parts = 5\n",
    "    nb_cuts = int(text_len / delta)\n",
    "    nb_cuts = min(nb_cuts, max_parts)\n",
    "    \n",
    "    for i in range(nb_cuts + 1):\n",
    "        text_part = ' '.join(text.split(' ')[i * delta: (i + 1) * delta])\n",
    "        parts.append(tokenizer.encode(text_part, return_tensors=\"pt\", max_length=500).to(device))\n",
    "\n",
    "    return parts\n",
    "\n",
    "def Bert_train_epoch(model, x_train, y_train, loss_fn, optimizer, device, tokenizer):\n",
    "    ''' Train Bert model for one epoch '''\n",
    "    print_every = 300; total_loss = 0\n",
    "    all_losses = []; CUDA_LAUNCH_BLOCKING=1\n",
    "    model.train()\n",
    "    correct_predictions = 0\n",
    "    for idx in range(len(x_train)):\n",
    "        text_parts = Bert_preprocess_text(x_train[idx], device, tokenizer)\n",
    "        label = torch.tensor([y_train[idx]]).long().to(device)\n",
    "        overall_output = torch.zeros((1, 2)).float().to(device)\n",
    "        for part in text_parts:\n",
    "            if len(part) > 0:\n",
    "                try:\n",
    "                    input = part.reshape(-1)[:512].reshape(1, -1)\n",
    "                    overall_output += model(input, labels=label)[1].float().to(device)\n",
    "                except Exception as e:\n",
    "                    print(str(e))\n",
    "        overall_output = F.softmax(overall_output[0], dim=-1)\n",
    "        correct_predictions += (np.argmax(overall_output.cpu().detach().numpy()) == label).item()\n",
    "        if label == 0: label = torch.tensor([1.0, 0.0]).float().to(device)\n",
    "        elif label == 1: label = torch.tensor([0.0, 1.0]).float().to(device)\n",
    "        loss = loss_fn(overall_output, label)\n",
    "        total_loss += loss.item()\n",
    "        loss.backward()\n",
    "        optimizer.step()\n",
    "        optimizer.zero_grad()\n",
    "        if idx % print_every == 0 and idx > 0:\n",
    "            average_loss = total_loss / print_every\n",
    "            print(\"{}/{}. Average loss: {} | Accuracy: {}%\".format(idx, len(x_train), average_loss, (correct_predictions/idx)*100))\n",
    "            all_losses.append(average_loss)\n",
    "            total_loss = 0\n",
    "            \n",
    "def Bert_eval_model(model, x_val, y_val, loss_fn, device, tokenizer):\n",
    "    ''' Evaluate Bert model on validation data '''\n",
    "    total_loss = 0; all_losses = []\n",
    "    model.eval()\n",
    "    correct_predictions = 0\n",
    "    with torch.no_grad():\n",
    "        for idx in range(len(x_val)):\n",
    "            text_parts = Bert_preprocess_text(x_val[idx], device, tokenizer)\n",
    "            label = torch.tensor([y_val[idx]]).long().to(device)\n",
    "            overall_output = torch.zeros((1, 2)).float().to(device)\n",
    "            for part in text_parts:\n",
    "                if len(part) > 0:\n",
    "                    try:\n",
    "                        input = part.reshape(-1)[:512].reshape(1, -1)\n",
    "                        overall_output += model(input, labels=label)[1].float().to(device)\n",
    "                    except Exception as e:\n",
    "                        print(str(e))\n",
    "            overall_output = F.softmax(overall_output[0], dim=-1)\n",
    "            correct_predictions += (np.argmax(overall_output.cpu().detach().numpy()) == label).item()\n",
    "            if label == 0: label = torch.tensor([1.0, 0.0]).float().to(device)\n",
    "            elif label == 1: label = torch.tensor([0.0, 1.0]).float().to(device)\n",
    "            loss = loss_fn(overall_output, label)\n",
    "            total_loss += loss.item()\n",
    "        average_loss = total_loss / len(x_val)\n",
    "        print(\"Average val loss: {} | Val accuracy: {}%\".format(average_loss, (correct_predictions/len(x_val))*100))\n",
    "        all_losses.append(average_loss)\n",
    "        total_loss = 0\n",
    "    \n",
    "\n",
    "def Bert_train_model(X, Y):\n",
    "    device = torch.device('cuda') if torch.cuda.is_available() else torch.device('cpu')\n",
    "    x, x_test, y, y_test = train_test_split(X,Y,test_size=0.05,train_size=0.95)\n",
    "    x_train, x_val, y_train, y_val = train_test_split(x,y,test_size=0.15,train_size=0.85)\n",
    "    \n",
    "    tokenizer = BertTokenizer.from_pretrained(\"bert-base-uncased\")\n",
    "    model = BertForSequenceClassification.from_pretrained(\"bert-base-uncased\")\n",
    "    model.config.num_labels = 1\n",
    "    for param in model.parameters():\n",
    "        param.requires_grad = False #Freeze Bert !\n",
    "    model.classifier = nn.Sequential(\n",
    "        nn.Linear(model.config.hidden_size, 256),\n",
    "        nn.ReLU(),\n",
    "        nn.Linear(256, 64),\n",
    "        nn.ReLU(),\n",
    "        nn.Linear(64, 2),\n",
    "        nn.Softmax(dim=1)\n",
    "    )\n",
    "    model = model.to(device)\n",
    "    \n",
    "    criterion = nn.BCELoss().to(device)\n",
    "    optimizer = optim.AdamW(model.classifier.parameters(), lr=3e-5)\n",
    "    \n",
    "    EPOCHS = 1\n",
    "    for epoch in range(EPOCHS):\n",
    "        print(f'\\nEpoch {epoch + 1}/{EPOCHS}')\n",
    "        print('-' * 10)\n",
    "        Bert_train_epoch(model, x_train, y_train, criterion, optimizer, device, tokenizer)\n",
    "        Bert_eval_model(model, x_val, y_val, criterion, device, tokenizer)\n",
    "        \n",
    "X = data['v2'].tolist()\n",
    "Y = (data['v1'] == 'ham').astype(int).tolist()\n",
    "Bert_train_model(X, Y)"
   ]
  },
  {
   "cell_type": "markdown",
   "id": "ebd57014",
   "metadata": {},
   "source": [
    "I don't really understand why Bert perform worse than Naive Baye and the LSTM model with only 88.29% accuracy."
   ]
  },
  {
   "cell_type": "code",
   "execution_count": null,
   "id": "9df10b96",
   "metadata": {},
   "outputs": [],
   "source": []
  }
 ],
 "metadata": {
  "kernelspec": {
   "display_name": "Python 3 (ipykernel)",
   "language": "python",
   "name": "python3"
  },
  "language_info": {
   "codemirror_mode": {
    "name": "ipython",
    "version": 3
   },
   "file_extension": ".py",
   "mimetype": "text/x-python",
   "name": "python",
   "nbconvert_exporter": "python",
   "pygments_lexer": "ipython3",
   "version": "3.9.7"
  }
 },
 "nbformat": 4,
 "nbformat_minor": 5
}
